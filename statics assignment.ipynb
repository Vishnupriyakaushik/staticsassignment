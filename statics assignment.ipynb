{
 "cells": [
  {
   "cell_type": "code",
   "execution_count": null,
   "id": "85f2c30f-8ea6-447c-ad9f-a1baca2d787e",
   "metadata": {},
   "outputs": [],
   "source": [
    "Q1. What is Statistics?"
   ]
  },
  {
   "cell_type": "code",
   "execution_count": null,
   "id": "fa919057-b547-4f3b-bc92-23da79b14f70",
   "metadata": {},
   "outputs": [],
   "source": [
    "Statistics is a branch of mathematics that deals with the collection, analysis, interpretation, presentation, and organization of data.\n",
    "It involves the use of mathematical techniques to extract meaning from data and make decisions based on the results.\n"
   ]
  },
  {
   "cell_type": "code",
   "execution_count": null,
   "id": "8026ae54-0720-4e48-a38a-8ec532eb95ef",
   "metadata": {},
   "outputs": [],
   "source": [
    "Q2. Define the different types of statistics and give an example of when each type might be used."
   ]
  },
  {
   "cell_type": "code",
   "execution_count": null,
   "id": "cad18293-e9bb-4584-a80d-31075d4152fe",
   "metadata": {},
   "outputs": [],
   "source": [
    "There are two main types of statistics: descriptive statistics and inferential statistics.\n",
    "\n",
    "Descriptive Statistics:\n",
    "Descriptive statistics are used to summarize and describe the main features of a data set. \n",
    "This type of statistics deals with the collection, analysis, and presentation of data in a meaningful and easily understood way.\n",
    "Examples of descriptive statistics include measures of central tendency, such as mean, median, and mode, and measures of variability, such as range, variance, and standard deviation.\n",
    "Example: A company wants to understand the average age of its customers.\n",
    "They can use descriptive statistics to calculate the mean age, median age, and range of ages of their customers based on data collected from surveys or customer records.\n",
    "\n",
    "Inferential Statistics:\n",
    "Inferential statistics are used to make inferences and predictions about a population based on a sample of data.\n",
    "This type of statistics involves using probability theory to draw conclusions from the sample data that can be applied to the larger population.\n",
    "Examples of inferential statistics include hypothesis testing, confidence intervals, and regression analysis.\n",
    "Example: A medical researcher wants to test the effectiveness of a new drug in treating a particular disease. \n",
    "They can use inferential statistics to analyze the results of a clinical trial to determine whether the drug has a significant impact on the disease and to estimate the effectiveness of the drug in the larger population."
   ]
  },
  {
   "cell_type": "code",
   "execution_count": null,
   "id": "7730237c-e257-4473-ae08-de378980fe65",
   "metadata": {},
   "outputs": [],
   "source": [
    "Q3. What are the different types of data and how do they differ from each other? Provide an example of\n",
    "each type of data."
   ]
  },
  {
   "cell_type": "code",
   "execution_count": null,
   "id": "dc82940f-f6cc-4c21-bcfe-30842b42f926",
   "metadata": {},
   "outputs": [],
   "source": [
    "There are four main types of data: nominal, ordinal, interval, and ratio. \n",
    "These types of data differ based on the level of measurement and the mathematical operations that can be applied to them.\n",
    "\n",
    "Nominal Data:\n",
    "Nominal data is categorical data that can be classified into mutually exclusive categories without any order or ranking.\n",
    "This type of data cannot be measured or ordered numerically.\n",
    "Examples of nominal data include gender, ethnicity, and type of car.\n",
    "Example: A survey that asks respondents to choose their favorite color from a list of options, such as red, blue, and green, collects nominal data.\n",
    "\n",
    "Ordinal Data:\n",
    "Ordinal data is categorical data that can be ordered or ranked based on the level of measurement.\n",
    "This type of data can be measured using non-numeric scales.\n",
    "Examples of ordinal data include educational level, socioeconomic status, and level of agreement.\n",
    "Example: A survey that asks respondents to rate their satisfaction with a product on a scale of 1 to 5, where 1 represents \"not satisfied\" and 5 represents \"very satisfied,\" collects ordinal data.\n",
    "\n",
    "Interval Data:\n",
    "Interval data is numerical data that has equal intervals between its values. \n",
    "This type of data can be measured using numeric scales. \n",
    "Examples of interval data include temperature, time, and IQ scores.\n",
    "Example: A thermometer that measures the temperature in degrees Celsius collects interval data.\n",
    "\n",
    "Ratio Data:\n",
    "Ratio data is numerical data that has a true zero point and can be measured using ratios.\n",
    "This type of data can be ordered, and the values have equal intervals between them.\n",
    "Examples of ratio data include weight, height, and income.\n",
    "Example: A scale that measures the weight of an object in grams collects ratio data."
   ]
  },
  {
   "cell_type": "code",
   "execution_count": null,
   "id": "35d691aa-67fe-443a-abca-165af93887b9",
   "metadata": {},
   "outputs": [],
   "source": [
    "Q4. Categorise the following datasets with respect to quantitative and qualitative data types:\n",
    "(i) Grading in exam: A+, A, B+, B, C+, C, D, E\n",
    "(ii) Colour of mangoes: yellow, green, orange, red\n",
    "(iii) Height data of a class: [178.9, 179, 179.5, 176, 177.2, 178.3, 175.8,...]\n",
    "(iv) Number of mangoes exported by a farm: [500, 600, 478, 672, ...]"
   ]
  },
  {
   "cell_type": "code",
   "execution_count": null,
   "id": "293b5bc0-24d0-4374-ba64-fb8467442238",
   "metadata": {},
   "outputs": [],
   "source": [
    "(i) Grading in exam: A+, A, B+, B, C+, C, D, E\n",
    "\n",
    "Data type: Qualitative/Categorical\n",
    "(ii) Colour of mangoes: yellow, green, orange, red\n",
    "\n",
    "Data type: Qualitative/Categorical\n",
    "(iii) Height data of a class: [178.9, 179, 179.5, 176, 177.2, 178.3, 175.8,...]\n",
    "\n",
    "Data type: Quantitative/Continuous\n",
    "(iv) Number of mangoes exported by a farm: [500, 600, 478, 672, ...]\n",
    "\n",
    "Data type: Quantitative/Discrete"
   ]
  },
  {
   "cell_type": "code",
   "execution_count": null,
   "id": "084b75a5-1e53-4784-94c4-5af4a7b73fb1",
   "metadata": {},
   "outputs": [],
   "source": [
    "Q5. Explain the concept of levels of measurement and give an example of a variable for each level."
   ]
  },
  {
   "cell_type": "code",
   "execution_count": null,
   "id": "ec6318f8-a223-47c6-a051-407a38d7cb45",
   "metadata": {},
   "outputs": [],
   "source": [
    "Levels of measurement, also known as scales of measurement, refer to the different types or levels of data that can be collected in research or surveys. \n",
    "There are four levels of measurement: nominal, ordinal, interval, and ratio.\n",
    "\n",
    "Nominal Level of Measurement:\n",
    "The nominal level of measurement is the most basic level of measurement. \n",
    "It is used for categorical data that can be classified into mutually exclusive categories without any order or ranking.\n",
    "Examples of nominal variables include gender, eye color, and favorite sports team.\n",
    "\n",
    "Ordinal Level of Measurement:\n",
    "The ordinal level of measurement is used for variables that can be ordered or ranked based on some characteristic or feature.\n",
    "However, the distance between the variables is not known.\n",
    "Examples of ordinal variables include educational level, income bracket, and level of satisfaction.\n",
    "\n",
    "Interval Level of Measurement:\n",
    "The interval level of measurement is used for variables where the distance between the variables is known and can be measured using a numeric scale. \n",
    "However, there is no true zero point.\n",
    "Examples of interval variables include temperature, IQ scores, and time.\n",
    "\n",
    "Ratio Level of Measurement:\n",
    "The ratio level of measurement is the highest level of measurement.\n",
    "It is used for variables that have a true zero point and can be measured using ratios. \n",
    "Examples of ratio variables include height, weight, and income.\n",
    "\n",
    "Example of a variable for each level of measurement:\n",
    "\n",
    "Nominal variable:\n",
    "Gender (male, female)\n",
    "Ordinal variable:\n",
    "Educational level (high school, college, graduate)\n",
    "Interval variable:\n",
    "Temperature in Celsius or Fahrenheit\n",
    "Ratio variable:\n",
    "Height in centimeters or inches."
   ]
  },
  {
   "cell_type": "code",
   "execution_count": null,
   "id": "e208e99d-0abf-4c64-b4c5-b978fe62cc1c",
   "metadata": {},
   "outputs": [],
   "source": [
    "Q6. Why is it important to understand the level of measurement when analyzing data? Provide an\n",
    "example to illustrate your answer."
   ]
  },
  {
   "cell_type": "code",
   "execution_count": null,
   "id": "8b389c98-d00f-4806-96ba-c79d022cb52c",
   "metadata": {},
   "outputs": [],
   "source": [
    "Understanding the level of measurement is crucial when analyzing data because it determines the appropriate statistical techniques \n",
    "and methods that can be used to analyze the data. \n",
    "The level of measurement also affects the types of conclusions and inferences that can be made from the data.\n",
    "\n",
    "For example, if a researcher wants to compare the heights of two groups of people,\n",
    "they need to know if the height data is measured on an interval or ratio scale.\n",
    "If it is measured on an interval scale, \n",
    "the researcher can use statistical tests such as t-tests or ANOVA to compare the means of the two groups. \n",
    "However, if the height data is measured on a ratio scale, the researcher can also use tests such as regression analysis\n",
    "or correlation to determine the relationship between height and other variables."
   ]
  },
  {
   "cell_type": "code",
   "execution_count": null,
   "id": "f1c44863-66da-4bb2-9549-fef796c94c4a",
   "metadata": {},
   "outputs": [],
   "source": [
    "Q7. How nominal data type is different from ordinal data type."
   ]
  },
  {
   "cell_type": "code",
   "execution_count": null,
   "id": "1da4b820-fe3d-4473-ac1f-4ac00bd32fe5",
   "metadata": {},
   "outputs": [],
   "source": [
    "Nominal and ordinal data are both types of categorical data, but they differ in the level of information provided.\n",
    "\n",
    "Nominal data is a type of categorical data where the values represent categories or labels that cannot be ordered or ranked.\n",
    "Nominal data can only be used to describe qualitative characteristics or attributes, such as gender, ethnicity, or hair color.\n",
    "Each category or label has an equal weight, and there is no inherent order or ranking among them.\n",
    "\n",
    "On the other hand, ordinal data is a type of categorical data where the values represent categories or labels that can be ordered or ranked based on some characteristic or feature.\n",
    "Ordinal data can be used to describe qualitative characteristics or attributes, such as level of education, socioeconomic status, or satisfaction level.\n",
    "Each category or label has a specific rank or order, and the distance between categories is not necessarily equal.\n",
    "\n",
    "For example, consider the following data set:\n",
    "\n",
    "Nominal data: Types of fruits - apple, banana, mango, orange\n",
    "Ordinal data: Levels of education - high school, college, graduate, post-graduate"
   ]
  },
  {
   "cell_type": "code",
   "execution_count": null,
   "id": "84c4bfde-005e-4d5a-ab50-20fea8da820b",
   "metadata": {},
   "outputs": [],
   "source": [
    "Q8. Which type of plot can be used to display data in terms of range?"
   ]
  },
  {
   "cell_type": "code",
   "execution_count": null,
   "id": "b87968cd-5e2f-43ec-84fb-a2db16dd05ac",
   "metadata": {},
   "outputs": [],
   "source": [
    "A box plot (also called a box-and-whisker plot) can be used to display data in terms of range. \n",
    "A box plot shows the distribution of a dataset using five summary statistics:\n",
    "    minimum value, first quartile (25th percentile),\n",
    "    median (50th percentile), third quartile (75th percentile), and maximum value."
   ]
  },
  {
   "cell_type": "code",
   "execution_count": null,
   "id": "dc07d0e3-9efa-4b9e-a60c-283f7c8a8d69",
   "metadata": {},
   "outputs": [],
   "source": [
    "Q9. Describe the difference between descriptive and inferential statistics. Give an example of each\n",
    "type of statistics and explain how they are used."
   ]
  },
  {
   "cell_type": "code",
   "execution_count": null,
   "id": "33b23322-9650-4620-979b-ad68334cc7bc",
   "metadata": {},
   "outputs": [],
   "source": [
    "descriptive statistics are used to summarize and describe a dataset,\n",
    "while inferential statistics are used to make predictions and draw conclusions about a larger population based on a sample of data.\n",
    "Both descriptive and inferential statistics are important tools in statistical analysis and are used in various fields,\n",
    "including psychology, economics, biology, and social sciences."
   ]
  },
  {
   "cell_type": "code",
   "execution_count": null,
   "id": "b1c60e7d-cff3-4b5c-a6d2-08d57b93b411",
   "metadata": {},
   "outputs": [],
   "source": [
    "Q10. What are some common measures of central tendency and variability used in statistics? Explain\n",
    "how each measure can be used to describe a dataset."
   ]
  },
  {
   "cell_type": "code",
   "execution_count": null,
   "id": "d5162790-a1bd-4bd4-a747-ba5b5086cd5b",
   "metadata": {},
   "outputs": [],
   "source": [
    "Measures of central tendency and variability are commonly used in statistics to describe and summarize datasets. Some common measures of central tendency and variability include:\n",
    "\n",
    "Mean: The mean is the average of a set of numbers. It is calculated by adding up all the values in the dataset and dividing by the number of values. The mean can be used to describe the typical or average value in a dataset.\n",
    "\n",
    "Median: The median is the middle value in a dataset when the values are arranged in order. It is used to describe the value that separates the dataset into two equal halves.\n",
    "\n",
    "Mode: The mode is the most common value in a dataset. It is used to describe the most frequent value or values in a dataset.\n",
    "\n",
    "Range: The range is the difference between the largest and smallest values in a dataset. It is used to describe the spread of the data.\n",
    "\n",
    "Variance: The variance is a measure of how spread out the data is from the mean. It is calculated by subtracting each value in the dataset from the mean, squaring the result, and then taking the average of the squared differences. Variance is used to describe the variability of the data.\n",
    "\n",
    "Standard deviation: The standard deviation is the square root of the variance. It measures how much the values in the dataset deviate from the mean. Standard deviation is used to describe the spread of the data and is often used in hypothesis testing and confidence interval calculations.\n",
    "\n",
    "These measures can be used together to provide a complete summary of a dataset. For example, the mean and standard deviation can be used to describe the center and spread of a normally distributed dataset. The median and range can be used to describe a skewed dataset with outliers. The mode can be used to descr"
   ]
  }
 ],
 "metadata": {
  "kernelspec": {
   "display_name": "Python 3 (ipykernel)",
   "language": "python",
   "name": "python3"
  },
  "language_info": {
   "codemirror_mode": {
    "name": "ipython",
    "version": 3
   },
   "file_extension": ".py",
   "mimetype": "text/x-python",
   "name": "python",
   "nbconvert_exporter": "python",
   "pygments_lexer": "ipython3",
   "version": "3.10.8"
  }
 },
 "nbformat": 4,
 "nbformat_minor": 5
}
